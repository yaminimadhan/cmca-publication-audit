{
 "cells": [
  {
   "cell_type": "code",
   "execution_count": 1,
   "id": "62989046",
   "metadata": {},
   "outputs": [
    {
     "name": "stdout",
     "output_type": "stream",
     "text": [
      "Files written to: /home/ubuntu/CITS5553/Project/outputs/processed_text\n",
      "Preview (first 8 sentences):\n",
      "Understanding the Significance of Layer Bonding in Melt Christopher D. Lamb, Brooke Maitland, Matt S. Hepburn, Tim R. Dargaville, Brendan F. Kennedy, Paul D. Dalton, Adrian Keating, and Elena M. De-Juan-Pardo* Melt electrowriting (MEW) is a high-resolution additive manufacturing technology capable of depositing micrometric fibers onto a moving collector to form 3D scaffolds of controlled mechanical properties.\n",
      "While the critical role of layer bonding to achieve mechanical integrity in fused deposition modeling has been widely reported, it remains largely unknown in MEW, in part due to a lack of methods to assess it.\n",
      "Here, a systematic framework is developed to unravel the significance of layer bonding in MEW scaffolds and its ultimate effect on their mechanical properties.\n",
      "Results show that printing parameters, scaffold design, and print path have a strong impact on layer bonding strength of poly(ɛ-caprolactone) MEW scaffolds.\n",
      "This study demonstrates that a small increase of 5 μm in fiber diameter can enhance the layer bonding strength by as much as 70%, greatly impacting the overall scaffold properties.\n"
     ]
    }
   ],
   "source": [
    "import sys\n",
    "from pathlib import Path\n",
    "sys.path.append(str(Path(\"..\") / \"src\"))\n",
    "\n",
    "#Extract the text from the pdf\n",
    "from extraction import extract_sangram\n",
    "extract_sangram.extract_pdf(\"data/raw_pdfs/sample.pdf\")"
   ]
  },
  {
   "cell_type": "code",
   "execution_count": 2,
   "id": "5794ce74",
   "metadata": {},
   "outputs": [
    {
     "name": "stderr",
     "output_type": "stream",
     "text": [
      "/home/ubuntu/miniconda3/envs/Capstone/lib/python3.13/site-packages/tqdm/auto.py:21: TqdmWarning: IProgress not found. Please update jupyter and ipywidgets. See https://ipywidgets.readthedocs.io/en/stable/user_install.html\n",
      "  from .autonotebook import tqdm as notebook_tqdm\n"
     ]
    },
    {
     "name": "stdout",
     "output_type": "stream",
     "text": [
      "Embeddings shape: torch.Size([354, 768])\n"
     ]
    }
   ],
   "source": [
    "#Checking all-MiniLM-L6-v2/intfloat/e5-base-v2 for embedding:\n",
    "from sentence_transformers import SentenceTransformer\n",
    "\n",
    "\n",
    "model = SentenceTransformer(\"intfloat/e5-base-v2\")\n",
    "input_path = Path(\"../outputs/processed_text/sample.sentences.txt\")\n",
    "sentences = [f\"passage: {line.strip()}\" for line in input_path.read_text(encoding=\"utf-8\").splitlines() if line.strip()]\n",
    "\n",
    "\n",
    "embeddings = model.encode(sentences, convert_to_tensor=True)\n",
    "print(\"Embeddings shape:\", embeddings.shape)"
   ]
  },
  {
   "cell_type": "code",
   "execution_count": 3,
   "id": "70ba1efe",
   "metadata": {},
   "outputs": [
    {
     "name": "stdout",
     "output_type": "stream",
     "text": [
      "Match: passage: In Situ Layer Bonding Analysis Through Optical Coherence In the context of MEW and the complex interplay of various parameters, there is a growing need for adequate assessment (Score=0.8030)\n",
      "Match: passage: The authors acknowledge the facilities, and the scientific and technical assistance  of Microscopy Australia at the Center for Microscopy, Characterization  & Analysis, The University of Western Australia, a facility funded by the University, State, and Commonwealth Governments. (Score=0.8024)\n",
      "Match: passage: Proposed framework to assess layer bonding in melt electrowriting (MEW). (Score=0.7905)\n",
      "Match: passage: 8] R. McMaster, C. Hoefner, A. Hrynevich, C. Blum, M. Wiesner, K. Wittmann, T. R. Dargaville, P. Bauer-Kreisel, J. Groll, P. D. Dalton, T. Blunk, Adv. (Score=0.7896)\n",
      "Match: passage: For mechanical testing both uniaxial and biaxial data, statistical analysis was performed using a twoway  ANOVA with Tukey’s multiple comparisons test. (Score=0.7843)\n"
     ]
    }
   ],
   "source": [
    "from sentence_transformers.util import cos_sim\n",
    "import torch\n",
    "\n",
    "query = \"query: Analysis (CMCA) at the UWA.\" #Dummy query\n",
    "\n",
    "device = embeddings.device\n",
    "query_embedding = model.encode(query, convert_to_tensor=True).to(device)\n",
    "\n",
    "#correct shape\n",
    "query_embedding = query_embedding.unsqueeze(0)\n",
    "\n",
    "#Compare\n",
    "scores = cos_sim(query_embedding, embeddings)\n",
    "top_k = torch.topk(scores, k=5)\n",
    "for idx, score in zip(top_k.indices[0], top_k.values[0]):\n",
    "    print(f\"Match: {sentences[idx]} (Score={score.item():.4f})\")"
   ]
  },
  {
   "cell_type": "code",
   "execution_count": 4,
   "id": "a1bfc242",
   "metadata": {},
   "outputs": [
    {
     "name": "stdout",
     "output_type": "stream",
     "text": [
      "torch.return_types.topk(\n",
      "values=tensor([[0.8030, 0.8024, 0.7905, 0.7896, 0.7843]], device='cuda:0'),\n",
      "indices=tensor([[143, 301,  35, 270, 255]], device='cuda:0'))\n"
     ]
    }
   ],
   "source": [
    "#Top k based on the dummy query\n",
    "print(top_k)"
   ]
  },
  {
   "cell_type": "code",
   "execution_count": 5,
   "id": "7245ffdb",
   "metadata": {},
   "outputs": [],
   "source": [
    "#Map indices to sentences\n",
    "top_k = torch.topk(scores, k=5, dim=1)\n",
    "idxs = top_k.indices[0].tolist()\n",
    "top_k_sentences = [sentences[i] for i in idxs] "
   ]
  },
  {
   "cell_type": "code",
   "execution_count": 6,
   "id": "60083e6d",
   "metadata": {},
   "outputs": [
    {
     "data": {
      "text/plain": [
       "['passage: In Situ Layer Bonding Analysis Through Optical Coherence In the context of MEW and the complex interplay of various parameters, there is a growing need for adequate assessment',\n",
       " 'passage: The authors acknowledge the facilities, and the scientific and technical assistance  of Microscopy Australia at the Center for Microscopy, Characterization  & Analysis, The University of Western Australia, a facility funded by the University, State, and Commonwealth Governments.',\n",
       " 'passage: Proposed framework to assess layer bonding in melt electrowriting (MEW).',\n",
       " 'passage: 8] R. McMaster, C. Hoefner, A. Hrynevich, C. Blum, M. Wiesner, K. Wittmann, T. R. Dargaville, P. Bauer-Kreisel, J. Groll, P. D. Dalton, T. Blunk, Adv.',\n",
       " 'passage: For mechanical testing both uniaxial and biaxial data, statistical analysis was performed using a twoway  ANOVA with Tukey’s multiple comparisons test.']"
      ]
     },
     "execution_count": 6,
     "metadata": {},
     "output_type": "execute_result"
    }
   ],
   "source": [
    "top_k_sentences"
   ]
  },
  {
   "cell_type": "code",
   "execution_count": null,
   "id": "c5182e9c",
   "metadata": {},
   "outputs": [],
   "source": [
    "from openai import OpenAI\n",
    "\n",
    "client = OpenAI(api_key=\" API KEY \")  # or use `api_key=os.getenv(\"OPENAI_API_KEY\")`\n",
    "\n",
    "#Function to build the LLM prompt from top k sentences - This prompt has to be designed carefully\n",
    "def build_prompt(top_k):\n",
    "    bullet_sentences = '\\n'.join(f\"- {s.replace('passage: ', '')}\" for s in top_k_sentences)\n",
    "    return f\"\"\"\n",
    "You are a research auditor verifying whether a document includes an acknowledgement of support.\n",
    "\n",
    "Below are several sentences extracted from the document:\n",
    "{bullet_sentences}\n",
    "\n",
    "Task:\n",
    "Based on the above sentences, determine whether the document contains an acknowledgement of support, funding, or institutional contribution (e.g. from CMCA, UWA, funding agencies, labs, or facilities).\n",
    "\n",
    "Respond in **this exact format**:\n",
    "\n",
    "Answer: [Yes or No]\n",
    "\n",
    "Reason: [One or two sentence justification]\n",
    "\"\"\""
   ]
  },
  {
   "cell_type": "code",
   "execution_count": null,
   "id": "c79abdb2",
   "metadata": {},
   "outputs": [],
   "source": [
    "import openai\n",
    "\n",
    "openai.api_key = \"API KEY\"\n",
    "\n",
    "#Function to create prompt using top k sentences\n",
    "def verify_acknowledgement(top_k_sentences):\n",
    "    prompt = build_prompt(top_k_sentences)\n",
    "\n",
    "    response = openai.ChatCompletion.create(\n",
    "        model=\"gpt-4\", \n",
    "        messages=[\n",
    "            {\"role\": \"system\", \"content\": \"You are a research auditor.\"},\n",
    "            {\"role\": \"user\", \"content\": prompt}\n",
    "        ],\n",
    "        temperature=0.0\n",
    "    )\n",
    "\n",
    "    return response['choices'][0]['message']['content']\n"
   ]
  },
  {
   "cell_type": "code",
   "execution_count": 9,
   "id": "6114986a",
   "metadata": {},
   "outputs": [],
   "source": [
    "#Function to call LLM\n",
    "def verify_acknowledgement(top_k_sentences):\n",
    "    prompt = build_prompt(top_k_sentences)\n",
    "\n",
    "    response = client.chat.completions.create(\n",
    "        model=\"gpt-3.5-turbo\",\n",
    "        messages=[\n",
    "            {\"role\": \"system\", \"content\": \"You are a research auditor.\"},\n",
    "            {\"role\": \"user\", \"content\": prompt}\n",
    "        ],\n",
    "        temperature=0.0\n",
    "    )\n",
    "\n",
    "    return response.choices[0].message.content"
   ]
  },
  {
   "cell_type": "code",
   "execution_count": 10,
   "id": "4492c02a",
   "metadata": {},
   "outputs": [
    {
     "name": "stdout",
     "output_type": "stream",
     "text": [
      "\n",
      "LLM Response:\n",
      "\n",
      "Answer: Yes\n",
      "\n",
      "Reason: The document includes an acknowledgement of support from Microscopy Australia at the Center for Microscopy, Characterization & Analysis, The University of Western Australia, which indicates institutional contribution and support.\n"
     ]
    }
   ],
   "source": [
    "#Run and show the result\n",
    "result = verify_acknowledgement(top_k_sentences)\n",
    "print(\"\\nLLM Response:\\n\")\n",
    "print(result)"
   ]
  },
  {
   "cell_type": "code",
   "execution_count": 11,
   "id": "0e9d208a",
   "metadata": {},
   "outputs": [
    {
     "data": {
      "text/plain": [
       "['passage: In Situ Layer Bonding Analysis Through Optical Coherence In the context of MEW and the complex interplay of various parameters, there is a growing need for adequate assessment',\n",
       " 'passage: The authors acknowledge the facilities, and the scientific and technical assistance  of Microscopy Australia at the Center for Microscopy, Characterization  & Analysis, The University of Western Australia, a facility funded by the University, State, and Commonwealth Governments.',\n",
       " 'passage: Proposed framework to assess layer bonding in melt electrowriting (MEW).',\n",
       " 'passage: 8] R. McMaster, C. Hoefner, A. Hrynevich, C. Blum, M. Wiesner, K. Wittmann, T. R. Dargaville, P. Bauer-Kreisel, J. Groll, P. D. Dalton, T. Blunk, Adv.',\n",
       " 'passage: For mechanical testing both uniaxial and biaxial data, statistical analysis was performed using a twoway  ANOVA with Tukey’s multiple comparisons test.']"
      ]
     },
     "execution_count": 11,
     "metadata": {},
     "output_type": "execute_result"
    }
   ],
   "source": [
    "top_k_sentences"
   ]
  }
 ],
 "metadata": {
  "kernelspec": {
   "display_name": "Capstone",
   "language": "python",
   "name": "python3"
  },
  "language_info": {
   "codemirror_mode": {
    "name": "ipython",
    "version": 3
   },
   "file_extension": ".py",
   "mimetype": "text/x-python",
   "name": "python",
   "nbconvert_exporter": "python",
   "pygments_lexer": "ipython3",
   "version": "3.13.5"
  }
 },
 "nbformat": 4,
 "nbformat_minor": 5
}
