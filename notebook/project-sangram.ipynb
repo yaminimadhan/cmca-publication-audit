{
 "cells": [
  {
   "cell_type": "code",
   "execution_count": 9,
   "id": "62989046",
   "metadata": {},
   "outputs": [
    {
     "name": "stdout",
     "output_type": "stream",
     "text": [
      "Files written to: /home/ubuntu/CITS5553/Project/outputs/processed_text\n",
      "Preview (first 8 sentences):\n",
      "Transcriptomic Analysis Reveals the Heterogeneous Role of Conducting Films Upon Electrical Stimulation Nicholas B. Lawler, Uditi Bhatt, Vipul Agarwal, Cameron W. Evans, Priya Kaluskar, Sebastian E. Amos, Kai Chen, Yin Yao, Haibo Jiang, Yu Suk Choi, Minghao Zheng, Dino Spagnoli, Irene Suarez-Martinez, Per B. Zetterlund, Vincent P. Wallace, Alan R. Harvey, Stuart I. Hodgetts, and K. Swaminathan Iyer* Central nervous system (CNS) injuries and neurodegenerative diseases have markedly poor prognoses and can result in permanent dysfunction due to the general inability of CNS neurons to regenerate.\n",
      "Differentiation of transplanted stem cells has emerged as a therapeutic avenue to regenerate tissue architecture in damaged areas.\n",
      "Electrical stimulation is a promising approach for directing the differentiation outcomes and pattern of outgrowth of transplanted stem cells, however traditional inorganic bio-electrodes can induce adverse effects such as inflammation.\n",
      "This study demonstrates the implementation of two organic thin films, a polymer/reduced graphene oxide nanocomposite (P(rGO)) and PEDOT:PSS, that have favorable properties for implementation as conductive materials for electrical stimulation, as well as an inorganic indium tin oxide (ITO) conductive film.\n",
      "Transcriptomic analysis reveals that electrical stimulation improves neuronal differentiation of SH-SY5Y cells on all three films, with the greatest effect for P(rGO).\n"
     ]
    }
   ],
   "source": [
    "import sys\n",
    "from pathlib import Path\n",
    "sys.path.append(str(Path(\"..\") / \"src\"))\n",
    "\n",
    "#Retrival Logic\n",
    "from similarity_search import search_sentences\n",
    "#Extract the text from the pdf\n",
    "from extraction import extract_sangram\n",
    "extract_sangram.extract_pdf(\"data/raw_pdfs/sample.pdf\")"
   ]
  },
  {
   "cell_type": "code",
   "execution_count": 10,
   "id": "5794ce74",
   "metadata": {},
   "outputs": [],
   "source": [
    "#Call the similarity search function - Does Query Embedding + Search in one call\n",
    "#Extracted sentences - (these two lines below can be kept together in similarity_search.py) - So modal loading and stuffs all will be there\n",
    "\n",
    "input_path = Path(\"../outputs/processed_text/sample.sentences.txt\")\n",
    "sentences = [f\"passage: {line.strip()}\" for line in input_path.read_text(encoding=\"utf-8\").splitlines() if line.strip()] #Convert the sentences in the format that model expects\n",
    "\n",
    "#Call the retrival logic\n",
    "results = search_sentences(sentences, k=3)"
   ]
  },
  {
   "cell_type": "code",
   "execution_count": 11,
   "id": "70ba1efe",
   "metadata": {},
   "outputs": [],
   "source": [
    "#For Storing Gold_Standard text in Database - Dont uncomment this \n",
    "#import store_embedding\n",
    "\n",
    "\n",
    "#Thresshold the similarity score\n",
    "threshold = 0.70 #Changed the logic so can reduce as well\n",
    "filtered_results = {\n",
    "    query: [(match, score) for (match, score) in matches if score >= threshold]\n",
    "    for query, matches in results.items()\n",
    "    if any(score >= threshold for (_, score) in matches)\n",
    "}\n",
    "#Number of extracted query sentences that have at least one match above thresshold in the Gold Standards\n",
    "matched_sentence = sum(1 for matches in filtered_results.values() if matches)\n",
    "#print(matched_sentence)"
   ]
  },
  {
   "cell_type": "code",
   "execution_count": null,
   "id": "cff5c8e1",
   "metadata": {},
   "outputs": [],
   "source": [
    "#Build list of queries with max similarity\n",
    "ranked_queries = [\n",
    "    (query_sentence, matches, max(score for _, score in matches))\n",
    "    for query_sentence, matches in filtered_results.items()\n",
    "]\n",
    "\n",
    "#Sort queries by their best score\n",
    "ranked_queries.sort(key=lambda triple: triple[2], reverse=True)\n",
    "#Print\n",
    "for query_sentence, matches, _ in ranked_queries:\n",
    "    print(f\"\\nQuery: {query_sentence}\")\n",
    "    for matched_sentence, similarity_score in matches:\n",
    "        print(f\"{matched_sentence} (sim={similarity_score:.4f})\")"
   ]
  },
  {
   "cell_type": "code",
   "execution_count": 14,
   "id": "75247faf",
   "metadata": {},
   "outputs": [
    {
     "name": "stdout",
     "output_type": "stream",
     "text": [
      "Queries to send to LLM:\n",
      "passage: The authors acknowledge the facilities and the scientific and technical assistance  of Microscopy Australia at the Electron Microscopy Unit (EMU) at the Mark Wainwright Analytical Centre (MWAC) at UNSW Sydney.\n",
      "passage: An electric field of 0.1 V over 2 mm was Supporting Information is available from the Wiley Online Library or from The authors acknowledge the facilities and the scientific and technical assistance  of the Australian Microscopy & Microanalysis Research Facility at the Centre for Microscopy, Characterization & Analysis, The University Adv.\n",
      "passage: V.P.W. was supported by the Australian Research Council  via a Future Fellowship (project number FT180100683) funded by the Australian Government.\n",
      "passage: This work was supported by resources provided by the Pawsey Supercomputing Research Centre with funding from the Australian Government and the Government of Western Australia.\n",
      "passage: Immunocytochemically stained samples were imaged using  a confocal microscope (Nikon C2), imaging cell nuclei (Hoechst 34580), Nestin (AF488), and 𝛽III-tubulin (AF594).\n",
      "passage: Advanced Healthcare Materials published by Wiley-VCH GmbH of Western Australia, a facility funded by the University, State and Commonwealth  Governments.\n",
      "passage: Cells Nanomed. [\n"
     ]
    }
   ],
   "source": [
    "#Take queries sorted by their best similarity score\n",
    "best_queries = [query for query, _, _ in ranked_queries[:7]]\n",
    "#Checking\n",
    "print(\"Queries to send to LLM:\")\n",
    "for query in best_queries:\n",
    "    print(query)"
   ]
  },
  {
   "cell_type": "code",
   "execution_count": 15,
   "id": "bcdb29a1",
   "metadata": {},
   "outputs": [],
   "source": [
    "def build_prompt(query_sentence, matches):\n",
    "    top_match, top_score = matches[0] #There are 3, but here just for the context passing only top one. \n",
    "    bullet_matches = f'- \"{top_match}\" (Similarity: {top_score:.2f})'\n",
    "\n",
    "    return f\"\"\"\n",
    "You are acting as a **research compliance auditor**. \n",
    "Your role is to verify whether a given sentence from a scientific document constitutes a **formal acknowledgement** of institutional or financial support.\n",
    "\n",
    "The sentence to review is:\n",
    "\n",
    "**Extracted Sentence:**\n",
    "\"{query_sentence.replace(\"passage: \", \"\")}\"\n",
    "\n",
    "This sentence was selected because it closely matches known acknowledgement phrases:\n",
    "{bullet_matches}\n",
    "\n",
    "### Your task\n",
    "Determine whether the sentence contains a **formal acknowledgement** that refers specifically to **one or more of the following known entities**:\n",
    "- CMCA (Centre for Microscopy Characterisation and Analysis)\n",
    "- The University of Western Australia (UWA)\n",
    "- Microscopy Australia or its nodes\n",
    "- NCRIS(National Collaborative Research Infrastructure Strategy) research infrastructure programs\n",
    "\n",
    "### Decision Criteria\n",
    "Classify the sentence as a **formal acknowledgement** only if it clearly refers to:\n",
    "- Use or access of CMCA, UWA microscopy facilities, or Microscopy Australia\n",
    "- Technical or analytical assistance provided by these institutions\n",
    "- support by NCRIS funding\n",
    "\n",
    "Do **not** classify it as an acknowledgement if it:\n",
    "- Only thanks individuals without institutional affiliation\n",
    "- Provides generic gratitude with no clear link to facilities, funding, or institutional support\n",
    "\n",
    "### Respond in this exact format:\n",
    "Answer: [Yes or No]  \n",
    "Reason: Explain **why** this sentence qualifies (or not) based on the decision criteria above. Use 1-3 sentences only.\n",
    "\"\"\".strip()"
   ]
  },
  {
   "cell_type": "code",
   "execution_count": null,
   "id": "c5182e9c",
   "metadata": {},
   "outputs": [],
   "source": [
    "\n",
    "from openai import OpenAI\n",
    "#Initialize client\n",
    "client = OpenAI(api_key= \"API Key\")\n",
    "\n",
    "def verify_acknowledgement(ranked_queries, top_k = 7):\n",
    "    results = {}\n",
    "    top_queries = ranked_queries[:top_k]\n",
    "\n",
    "    for query_sentence, matches, _ in top_queries:\n",
    "        #Build the prompt\n",
    "        prompt = build_prompt(query_sentence, matches)\n",
    "        #Send to LLM\n",
    "        response = client.chat.completions.create(\n",
    "            model=\"gpt-4\",\n",
    "            messages=[\n",
    "                {\"role\": \"system\", \"content\": \"You are a research auditor.\"},\n",
    "                {\"role\": \"user\", \"content\": prompt}\n",
    "            ],\n",
    "            temperature=0.0\n",
    "        )\n",
    "        #Save response\n",
    "        results[query_sentence] = response.choices[0].message.content.strip()\n",
    "    return results\n",
    "\n"
   ]
  },
  {
   "cell_type": "code",
   "execution_count": 17,
   "id": "4492c02a",
   "metadata": {},
   "outputs": [
    {
     "name": "stdout",
     "output_type": "stream",
     "text": [
      "Query: passage: The authors acknowledge the facilities and the scientific and technical assistance  of Microscopy Australia at the Electron Microscopy Unit (EMU) at the Mark Wainwright Analytical Centre (MWAC) at UNSW Sydney.\n",
      "LLM Response:\n",
      "Answer: Yes\n",
      "Reason: The sentence clearly acknowledges the facilities and scientific and technical assistance of Microscopy Australia at the Electron Microscopy Unit (EMU) at the Mark Wainwright Analytical Centre (MWAC) at UNSW Sydney. This indicates the use of Microscopy Australia's facilities and assistance, meeting the criteria for a formal acknowledgement.\n",
      "\n",
      "*************************************************************************************************************************************************************************************************************************************************************************************************************************************************************************\n",
      "Query: passage: An electric field of 0.1 V over 2 mm was Supporting Information is available from the Wiley Online Library or from The authors acknowledge the facilities and the scientific and technical assistance  of the Australian Microscopy & Microanalysis Research Facility at the Centre for Microscopy, Characterization & Analysis, The University Adv.\n",
      "LLM Response:\n",
      "Answer: Yes\n",
      "Reason: The sentence acknowledges the facilities and scientific and technical assistance of the Australian Microscopy & Microanalysis Research Facility at the Centre for Microscopy, Characterization & Analysis, which is a clear reference to the use of CMCA and Microscopy Australia's resources.\n",
      "\n",
      "******************************************************************************************************************************************************************************************************************************************************************************************************************\n",
      "Query: passage: V.P.W. was supported by the Australian Research Council  via a Future Fellowship (project number FT180100683) funded by the Australian Government.\n",
      "LLM Response:\n",
      "Answer: No\n",
      "Reason: While the sentence does acknowledge financial support, it specifically mentions the Australian Research Council and the Australian Government. It does not refer to CMCA, UWA, Microscopy Australia, or NCRIS, which are the entities of interest in this task.\n",
      "\n",
      "**********************************************************************************************************************************************************************************************************************************************************************************\n",
      "Query: passage: This work was supported by resources provided by the Pawsey Supercomputing Research Centre with funding from the Australian Government and the Government of Western Australia.\n",
      "LLM Response:\n",
      "Answer: No\n",
      "Reason: Although the sentence acknowledges institutional and financial support, it does not specifically mention any of the known entities such as CMCA, UWA, Microscopy Australia, or NCRIS. The support is attributed to the Pawsey Supercomputing Research Centre and the Australian and Western Australian Governments.\n",
      "\n",
      "**************************************************************************************************************************************************************************************************************************************************************************************************************************************\n",
      "Query: passage: Immunocytochemically stained samples were imaged using  a confocal microscope (Nikon C2), imaging cell nuclei (Hoechst 34580), Nestin (AF488), and 𝛽III-tubulin (AF594).\n",
      "LLM Response:\n",
      "Answer: No\n",
      "Reason: The sentence describes a methodological procedure but does not mention or acknowledge any support from CMCA, UWA, Microscopy Australia, or NCRIS funding. It does not meet the criteria for a formal acknowledgement.\n",
      "\n",
      "****************************************************************************************************************************************************************************************************************************************\n",
      "Query: passage: Advanced Healthcare Materials published by Wiley-VCH GmbH of Western Australia, a facility funded by the University, State and Commonwealth  Governments.\n",
      "LLM Response:\n",
      "Answer: No\n",
      "Reason: Although the sentence mentions a facility funded by the University, State and Commonwealth Governments, it does not specifically acknowledge the CMCA, UWA, Microscopy Australia, or NCRIS. The sentence lacks a clear link to the use or access of these facilities or their funding.\n",
      "\n",
      "*********************************************************************************************************************************************************************************************************************************************************************************************************\n",
      "Query: passage: Cells Nanomed. [\n",
      "LLM Response:\n",
      "Answer: No\n",
      "Reason: The provided sentence \"Cells Nanomed. [\" does not contain any clear reference to the use of facilities, technical assistance, or funding from CMCA, UWA, Microscopy Australia, or NCRIS. It also does not mention any institutional support or acknowledgement.\n",
      "\n",
      "**********************************************************************************************************************************************************************************************************************************************************************************\n"
     ]
    }
   ],
   "source": [
    "# Run and show the result\n",
    "result = verify_acknowledgement(ranked_queries, top_k = 7)\n",
    "for query_sentence, response in result.items():\n",
    "    print(f\"Query: {query_sentence}\")\n",
    "    print(f\"LLM Response:\\n{response}\\n\")\n",
    "    print(\"*\" * len(response))"
   ]
  }
 ],
 "metadata": {
  "kernelspec": {
   "display_name": "Capstone",
   "language": "python",
   "name": "python3"
  },
  "language_info": {
   "codemirror_mode": {
    "name": "ipython",
    "version": 3
   },
   "file_extension": ".py",
   "mimetype": "text/x-python",
   "name": "python",
   "nbconvert_exporter": "python",
   "pygments_lexer": "ipython3",
   "version": "3.13.5"
  }
 },
 "nbformat": 4,
 "nbformat_minor": 5
}
