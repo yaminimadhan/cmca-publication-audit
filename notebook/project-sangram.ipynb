{
 "cells": [
  {
   "cell_type": "code",
   "execution_count": 1,
   "id": "62989046",
   "metadata": {},
   "outputs": [
    {
     "name": "stdout",
     "output_type": "stream",
     "text": [
      "Files written to: /home/ubuntu/CITS5553/Project/cmca-publication-audit/outputs/processed_text\n",
      "Preview (first 8 sentences):\n",
      "Understanding the Significance of Layer Bonding in Melt Christopher D. Lamb, Brooke Maitland, Matt S. Hepburn, Tim R. Dargaville, Brendan F. Kennedy, Paul D. Dalton, Adrian Keating, and Elena M. De-Juan-Pardo* Melt electrowriting (MEW) is a high-resolution additive manufacturing technology capable of depositing micrometric fibers onto a moving collector to form 3D scaffolds of controlled mechanical properties.\n",
      "While the critical role of layer bonding to achieve mechanical integrity in fused deposition modeling has been widely reported, it remains largely unknown in MEW, in part due to a lack of methods to assess it.\n",
      "Here, a systematic framework is developed to unravel the significance of layer bonding in MEW scaffolds and its ultimate effect on their mechanical properties.\n",
      "Results show that printing parameters, scaffold design, and print path have a strong impact on layer bonding strength of poly(ɛ-caprolactone) MEW scaffolds.\n",
      "This study demonstrates that a small increase of 5 μm in fiber diameter can enhance the layer bonding strength by as much as 70%, greatly impacting the overall scaffold properties.\n",
      "A method is also established to control MEW scaffold layer bonding using a heated collector.\n",
      "Importantly, this study reveals that scaffold architecture alone is not responsible for the overall mechanical properties.\n",
      "Finally, a method to obtain tailored layer bond strengths within a given scaffold is established.\n"
     ]
    }
   ],
   "source": [
    "import sys\n",
    "from pathlib import Path\n",
    "sys.path.append(str(Path(\"..\") / \"src\"))\n",
    "\n",
    "#Extract the text from the pdf\n",
    "from extraction import extract_sangram\n",
    "extract_sangram.extract_pdf(\"data/raw_pdfs/sample.pdf\")"
   ]
  }
 ],
 "metadata": {
  "kernelspec": {
   "display_name": "Capstone",
   "language": "python",
   "name": "python3"
  },
  "language_info": {
   "codemirror_mode": {
    "name": "ipython",
    "version": 3
   },
   "file_extension": ".py",
   "mimetype": "text/x-python",
   "name": "python",
   "nbconvert_exporter": "python",
   "pygments_lexer": "ipython3",
   "version": "3.13.5"
  }
 },
 "nbformat": 4,
 "nbformat_minor": 5
}
